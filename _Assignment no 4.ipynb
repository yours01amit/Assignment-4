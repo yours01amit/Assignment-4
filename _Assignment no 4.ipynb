{
 "cells": [
  {
   "cell_type": "markdown",
   "id": "09c674af",
   "metadata": {},
   "source": [
    "* Q1. Explain Class and Object with respect to Object- Oriented Programming. Give a                suitable example."
   ]
  },
  {
   "cell_type": "markdown",
   "id": "bc995a93",
   "metadata": {},
   "source": [
    "Ans: Class is a blueprint which defines some propertiese and behaviors. An object is an intance of a         class which has those properties and behaviours attached. A class is not allocated memory when \n",
    "     it is defined. An object is allocated memory when it is created. class is a logical entity \n",
    "     whereas objects are physical entities."
   ]
  },
  {
   "cell_type": "code",
   "execution_count": 6,
   "id": "8fdd7308",
   "metadata": {},
   "outputs": [
    {
     "name": "stdout",
     "output_type": "stream",
     "text": [
      "Amit is a Data scientist\n",
      "Sweta is a HR\n",
      "Amit is a Data Scientist\n"
     ]
    }
   ],
   "source": [
    "class person:\n",
    "    name = \"Amit\"\n",
    "    occupation = \"Data Scientist\"\n",
    "    networth = 10000\n",
    "    \n",
    "    def info(self):\n",
    "        print(f\"{self.name} is a {self.occupation}\")\n",
    "        \n",
    "\n",
    "a = person()\n",
    "b = person()\n",
    "c = person()\n",
    "\n",
    "a.name = \"Amit\"\n",
    "a.occupation = \"Data scientist\"\n",
    "\n",
    "b.name =  \"Sweta\"\n",
    "b.occupation = \"HR\"\n",
    "\n",
    "a.info()\n",
    "b.info()\n",
    "c.info()"
   ]
  },
  {
   "cell_type": "markdown",
   "id": "b25bc0fb",
   "metadata": {},
   "source": [
    "* Q2. Name the four pillars of OOPs."
   ]
  },
  {
   "cell_type": "markdown",
   "id": "50f724d3",
   "metadata": {},
   "source": [
    "There are four pillars - Inheritance, polymorphism, Encapsulation and Abstraction. that pillers are \n",
    " called object oriented programming."
   ]
  },
  {
   "cell_type": "markdown",
   "id": "f5563a9c",
   "metadata": {},
   "source": [
    "* Q3. Explain why the __init__() function is used. Give a suitable example."
   ]
  },
  {
   "cell_type": "markdown",
   "id": "e12f33b9",
   "metadata": {},
   "source": [
    "The __init__ method lets the class initialize the objest's attributes and serves no other purpose.\n",
    "It is only used within classes."
   ]
  },
  {
   "cell_type": "code",
   "execution_count": 7,
   "id": "844de495",
   "metadata": {},
   "outputs": [
    {
     "name": "stdout",
     "output_type": "stream",
     "text": [
      "chimpanzee belongs to the monkeys family group\n",
      "cheetah belongs to the cat family group\n"
     ]
    }
   ],
   "source": [
    "class Details:\n",
    "    def __init__(self,animal,group):\n",
    "        self.animal = animal\n",
    "        self.group = group\n",
    "    \n",
    "    def info(self):\n",
    "        print(self.animal,\"belongs to the\",self.group,\"group\")\n",
    "        \n",
    "        \n",
    "obj1 = Details(\"chimpanzee\",\"monkeys family\")\n",
    "obj2 = Details(\"cheetah\",\"cat family\")\n",
    "\n",
    "obj1.info()\n",
    "obj2.info()"
   ]
  },
  {
   "cell_type": "markdown",
   "id": "53372f0d",
   "metadata": {},
   "source": [
    "* Q4. Why self is used in OOPs?"
   ]
  },
  {
   "cell_type": "markdown",
   "id": "4f21c649",
   "metadata": {},
   "source": [
    "The self variable is used to represent the instance of the class which is often used in OOps. It works\n",
    " as a reference to the object. python uses the self parameter to refer to instance attributes and methods of the class."
   ]
  },
  {
   "cell_type": "markdown",
   "id": "33a6b6e1",
   "metadata": {},
   "source": [
    "*  Q5. What is inheritance? Give an example for each type of inheritance."
   ]
  },
  {
   "cell_type": "markdown",
   "id": "3b809b3a",
   "metadata": {},
   "source": [
    "When a class derives from another class. the child class will inherit all the public and protected properties and methods from the parent class. In addition, it can have its own properties and methods, \n",
    "this is called inheritance."
   ]
  },
  {
   "cell_type": "code",
   "execution_count": 17,
   "id": "4abda40d",
   "metadata": {},
   "outputs": [
    {
     "name": "stdout",
     "output_type": "stream",
     "text": [
      "the name of Employee is 16383 is Amit\n",
      "the name of Employee is 45894 is Sweta\n",
      "the default language is pyhton\n"
     ]
    }
   ],
   "source": [
    "class Employee:\n",
    "    def __init__(self,name,id):\n",
    "        self.name = name\n",
    "        self.id = id\n",
    "        \n",
    "    def showDetails(self):\n",
    "        print(f\"the name of Employee is {self.id} is {self.name}\")\n",
    "        \n",
    "\n",
    "class programmers(Employee):\n",
    "    def showLanguage(self):\n",
    "        print(\"the default language is pyhton\")\n",
    "        \n",
    "emp1 = Employee(\"Amit\", 16383)\n",
    "emp1.showDetails()\n",
    "\n",
    "emp2 = programmers(\"Sweta\", 45894)\n",
    "emp2.showDetails()\n",
    "emp2.showLanguage()"
   ]
  },
  {
   "cell_type": "code",
   "execution_count": null,
   "id": "a91b3619",
   "metadata": {},
   "outputs": [],
   "source": []
  }
 ],
 "metadata": {
  "kernelspec": {
   "display_name": "Python 3 (ipykernel)",
   "language": "python",
   "name": "python3"
  },
  "language_info": {
   "codemirror_mode": {
    "name": "ipython",
    "version": 3
   },
   "file_extension": ".py",
   "mimetype": "text/x-python",
   "name": "python",
   "nbconvert_exporter": "python",
   "pygments_lexer": "ipython3",
   "version": "3.11.0"
  }
 },
 "nbformat": 4,
 "nbformat_minor": 5
}
